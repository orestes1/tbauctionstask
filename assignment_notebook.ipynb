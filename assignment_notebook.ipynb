{
 "cells": [
  {
   "cell_type": "markdown",
   "metadata": {},
   "source": [
    "**Import libraries**\n",
    "\n",
    "This section imports the necessary libraries for data manipulation and analysis."
   ]
  },
  {
   "cell_type": "code",
   "execution_count": 303,
   "metadata": {
    "ExecuteTime": {
     "end_time": "2025-03-23T10:06:54.822501Z",
     "start_time": "2025-03-23T10:06:54.819427Z"
    }
   },
   "outputs": [],
   "source": [
    "import os\n",
    "import pandas as pd\n",
    "import numpy as np\n",
    "import matplotlib.pyplot as plt\n",
    "from pychattr.channel_attribution import MarkovModel\n",
    "from pychattr.channel_attribution import HeuristicModel\n",
    "from matplotlib.ticker import FuncFormatter\n",
    "from scipy.interpolate import make_interp_spline"
   ]
  },
  {
   "cell_type": "markdown",
   "metadata": {},
   "source": [
    "**Read the CSV and Inspect the Data**"
   ]
  },
  {
   "cell_type": "code",
   "execution_count": 304,
   "metadata": {},
   "outputs": [],
   "source": [
    "df = pd.read_csv('TBA_attribution_data.csv')"
   ]
  },
  {
   "cell_type": "code",
   "execution_count": 305,
   "metadata": {},
   "outputs": [
    {
     "name": "stdout",
     "output_type": "stream",
     "text": [
      "                      cookie                  time interaction  conversion  \\\n",
      "0  11111FkCnDfDDf1iC97iC713B  2018-07-03T13:02:11Z  impression         0.0   \n",
      "1  11111FkCnDfDDf1iC97iC713B  2018-07-17T19:15:07Z  impression         0.0   \n",
      "2  11111FkCnDfDDf1iC97iC713B  2018-07-24T15:51:46Z  impression         0.0   \n",
      "3  11111FkCnDfDDf1iC97iC713B  2018-07-29T07:44:51Z  impression         0.0   \n",
      "4  1111nACkD9nFkBBDECD3ki11E  2018-07-03T09:44:57Z  impression         0.0   \n",
      "\n",
      "   conversion_value         channel  \n",
      "0               0.0       Instagram  \n",
      "1               0.0  Online Display  \n",
      "2               0.0  Online Display  \n",
      "3               0.0  Online Display  \n",
      "4               0.0     Paid Search  \n"
     ]
    }
   ],
   "source": [
    "# Inspect the structure\n",
    "print(df.head())"
   ]
  },
  {
   "cell_type": "code",
   "execution_count": 306,
   "metadata": {},
   "outputs": [
    {
     "name": "stdout",
     "output_type": "stream",
     "text": [
      "(586937, 6)\n"
     ]
    }
   ],
   "source": [
    "#Print (num of rows, columns)\n",
    "print(df.shape)"
   ]
  },
  {
   "cell_type": "code",
   "execution_count": 307,
   "metadata": {},
   "outputs": [
    {
     "name": "stdout",
     "output_type": "stream",
     "text": [
      "cookie               object\n",
      "time                 object\n",
      "interaction          object\n",
      "conversion          float64\n",
      "conversion_value    float64\n",
      "channel              object\n",
      "dtype: object\n",
      "<class 'pandas.core.frame.DataFrame'>\n",
      "RangeIndex: 586937 entries, 0 to 586936\n",
      "Data columns (total 6 columns):\n",
      " #   Column            Non-Null Count   Dtype  \n",
      "---  ------            --------------   -----  \n",
      " 0   cookie            586937 non-null  object \n",
      " 1   time              586937 non-null  object \n",
      " 2   interaction       586937 non-null  object \n",
      " 3   conversion        586928 non-null  float64\n",
      " 4   conversion_value  586937 non-null  float64\n",
      " 5   channel           586937 non-null  object \n",
      "dtypes: float64(2), object(4)\n",
      "memory usage: 26.9+ MB\n",
      "None\n"
     ]
    }
   ],
   "source": [
    "#Print columns and their data types\n",
    "print(df.dtypes)\n",
    "print(df.info()) "
   ]
  },
  {
   "cell_type": "markdown",
   "metadata": {},
   "source": [
    "Time Frame of Data, checking from when to when the rows are"
   ]
  },
  {
   "cell_type": "code",
   "execution_count": 308,
   "metadata": {},
   "outputs": [
    {
     "name": "stdout",
     "output_type": "stream",
     "text": [
      "Minimum time: 2018-07-01T13:13:16Z\n",
      "Maximum time: 2018-07-31T23:59:30Z\n"
     ]
    }
   ],
   "source": [
    "min_time = df['time'].min()\n",
    "max_time = df['time'].max()\n",
    "print(\"Minimum time:\", min_time)\n",
    "print(\"Maximum time:\", max_time)"
   ]
  },
  {
   "cell_type": "markdown",
   "metadata": {},
   "source": [
    "Check columns values as in GROUP BY in SQL"
   ]
  },
  {
   "cell_type": "code",
   "execution_count": 309,
   "metadata": {
    "ExecuteTime": {
     "end_time": "2025-03-23T10:07:03.885986Z",
     "start_time": "2025-03-23T10:07:03.806448Z"
    }
   },
   "outputs": [
    {
     "name": "stdout",
     "output_type": "stream",
     "text": [
      "Value counts for interaction:\n",
      "interaction\n",
      "impression    569286\n",
      "conversion     17651\n",
      "Name: count, dtype: int64\n",
      "----------------\n",
      "Value counts for conversion:\n",
      "conversion\n",
      "0.0    569277\n",
      "1.0     17651\n",
      "Name: count, dtype: int64\n",
      "----------------\n",
      "Value counts for channel:\n",
      "channel\n",
      "Facebook          175792\n",
      "Paid Search       151485\n",
      "Online Video      113350\n",
      "Instagram          75227\n",
      "Online Display     71083\n",
      "Name: count, dtype: int64\n",
      "----------------\n"
     ]
    }
   ],
   "source": [
    "for col in ['interaction', 'conversion', 'channel']:  \n",
    "    print(f\"Value counts for {col}:\")\n",
    "    print(df[col].value_counts())\n",
    "    print(\"----------------\")"
   ]
  },
  {
   "cell_type": "markdown",
   "metadata": {},
   "source": [
    "**First Data Pre-processing task** : Determine Data types for Columns and see if anything needs to be changed."
   ]
  },
  {
   "cell_type": "code",
   "execution_count": 310,
   "metadata": {
    "ExecuteTime": {
     "end_time": "2025-03-23T10:07:03.935196Z",
     "start_time": "2025-03-23T10:07:03.930255Z"
    }
   },
   "outputs": [
    {
     "data": {
      "text/plain": [
       "cookie               object\n",
       "time                 object\n",
       "interaction          object\n",
       "conversion          float64\n",
       "conversion_value    float64\n",
       "channel              object\n",
       "dtype: object"
      ]
     },
     "execution_count": 310,
     "metadata": {},
     "output_type": "execute_result"
    }
   ],
   "source": [
    "df.dtypes"
   ]
  },
  {
   "cell_type": "markdown",
   "metadata": {},
   "source": [
    "Given that the 'time' column seems to be carrying timestamps I would convert it to a datetime object. \n",
    "This will allow us to perform operations on the time column, like compare which timestamp is before and after each other. The current data type 'object' is more for strings than timestamps although there"
   ]
  },
  {
   "cell_type": "code",
   "execution_count": 311,
   "metadata": {
    "ExecuteTime": {
     "end_time": "2025-03-23T10:07:04.015528Z",
     "start_time": "2025-03-23T10:07:04.012459Z"
    }
   },
   "outputs": [
    {
     "name": "stdout",
     "output_type": "stream",
     "text": [
      "before transformation 'time' column was: object\n",
      "after transdormation the type of time column: datetime64[ns, UTC]\n"
     ]
    }
   ],
   "source": [
    "print('before transformation \\'time\\' column was:', df['time'].dtypes)\n",
    "df['time']=pd.to_datetime(df['time'])\n",
    "#print(df['time'].tail())\n",
    "print('after transdormation the type of time column:',df['time'].dtypes)"
   ]
  },
  {
   "cell_type": "markdown",
   "metadata": {},
   "source": [
    "Check for NULLs"
   ]
  },
  {
   "cell_type": "code",
   "execution_count": 312,
   "metadata": {
    "ExecuteTime": {
     "end_time": "2025-03-23T10:07:04.149803Z",
     "start_time": "2025-03-23T10:07:04.054718Z"
    }
   },
   "outputs": [
    {
     "name": "stdout",
     "output_type": "stream",
     "text": [
      "cookie              0\n",
      "time                0\n",
      "interaction         0\n",
      "conversion          9\n",
      "conversion_value    0\n",
      "channel             0\n",
      "dtype: int64\n"
     ]
    }
   ],
   "source": [
    "null_counts = df.isnull().sum()\n",
    "print(null_counts)"
   ]
  },
  {
   "cell_type": "markdown",
   "metadata": {},
   "source": [
    "Show rows with NULL. There are 9 in conversion column so let's show these ones."
   ]
  },
  {
   "cell_type": "code",
   "execution_count": 313,
   "metadata": {
    "ExecuteTime": {
     "end_time": "2025-03-23T10:07:04.165618Z",
     "start_time": "2025-03-23T10:07:04.158649Z"
    }
   },
   "outputs": [
    {
     "name": "stdout",
     "output_type": "stream",
     "text": [
      "                           cookie                      time interaction  \\\n",
      "74      111f1nF77Afhf9ho7Aiff1Chh 2018-07-14 20:31:43+00:00  impression   \n",
      "277     113iB9Bk33EA3nfAA9i73niki 2018-07-17 10:42:27+00:00  impression   \n",
      "469     119AFB9fiFfhEB3nEfDok9hDA 2018-07-23 12:10:09+00:00  impression   \n",
      "760     11BCC1Co9fk3ni1CC19AE3i3E 2018-07-03 06:25:36+00:00  impression   \n",
      "1030    11D1CfBfn7o1AEE9k773CnFhA 2018-07-13 13:17:54+00:00  impression   \n",
      "1218    11EBE19hkFFoihBDonhAFokn7 2018-07-17 22:53:31+00:00  impression   \n",
      "115814  97oinFDfB31hDCnA9o7hk9B3f 2018-07-30 18:33:06+00:00  impression   \n",
      "389170  fFnfn9oFh9DhDDkk7kAF9o1B3 2018-07-09 20:11:47+00:00  impression   \n",
      "444679  i3oBCoEi1nh3hk13ACA393nFh 2018-07-02 08:47:11+00:00  impression   \n",
      "\n",
      "        conversion  conversion_value         channel  \n",
      "74             NaN               0.0    Online Video  \n",
      "277            NaN               0.0        Facebook  \n",
      "469            NaN               0.0        Facebook  \n",
      "760            NaN               0.0        Facebook  \n",
      "1030           NaN               0.0  Online Display  \n",
      "1218           NaN               0.0    Online Video  \n",
      "115814         NaN               0.0        Facebook  \n",
      "389170         NaN               0.0       Instagram  \n",
      "444679         NaN               0.0    Online Video  \n"
     ]
    }
   ],
   "source": [
    "null_rows = df[df['conversion'].isnull()]\n",
    "print(null_rows)"
   ]
  },
  {
   "cell_type": "markdown",
   "metadata": {},
   "source": [
    "Locate the rows with 0 and if the conversion value is 0 then it makes sense to fill the NULL in conversion to 0 as no value /money means no conversion happened. \n",
    "We see that already from the above but for demonstration purposes we use the AND operator because in real life it might be 1."
   ]
  },
  {
   "cell_type": "code",
   "execution_count": 314,
   "metadata": {
    "ExecuteTime": {
     "end_time": "2025-03-23T10:07:04.216641Z",
     "start_time": "2025-03-23T10:07:04.209418Z"
    }
   },
   "outputs": [],
   "source": [
    "null_rows = df.loc[(df['conversion'].isnull()) & (df['conversion_value'] == 0)]"
   ]
  },
  {
   "cell_type": "markdown",
   "metadata": {},
   "source": [
    "Locate and change WHEN conversion is null AND when conversion_value=0 then make Conversion to 0"
   ]
  },
  {
   "cell_type": "code",
   "execution_count": 315,
   "metadata": {
    "ExecuteTime": {
     "end_time": "2025-03-23T10:07:04.343980Z",
     "start_time": "2025-03-23T10:07:04.257460Z"
    }
   },
   "outputs": [
    {
     "name": "stdout",
     "output_type": "stream",
     "text": [
      "cookie              0\n",
      "time                0\n",
      "interaction         0\n",
      "conversion          0\n",
      "conversion_value    0\n",
      "channel             0\n",
      "dtype: int64\n"
     ]
    }
   ],
   "source": [
    "#checks if the conversion column is null and the conversion_value column is 0 then it will replace the null value with 0\n",
    "df.loc[(df['conversion'].isnull()) & (df['conversion_value'] == 0), 'conversion'] = 0\n",
    "\n",
    "null_counts = df.isnull().sum()\n",
    "print(null_counts)"
   ]
  },
  {
   "cell_type": "markdown",
   "metadata": {},
   "source": [
    "**Check for Duplicates first in across ALL columns then a subset**"
   ]
  },
  {
   "cell_type": "code",
   "execution_count": 316,
   "metadata": {
    "ExecuteTime": {
     "end_time": "2025-03-23T10:07:05.009982Z",
     "start_time": "2025-03-23T10:07:04.384911Z"
    }
   },
   "outputs": [
    {
     "name": "stdout",
     "output_type": "stream",
     "text": [
      "                           cookie                      time interaction  \\\n",
      "251665  Cn99C7on3DioDEDofDnBCC9oD 2018-07-01 13:50:28+00:00  impression   \n",
      "251666  Cn99C7on3DioDEDofDnBCC9oD 2018-07-01 13:50:28+00:00  impression   \n",
      "501018  kh1nnkkf7fBiDFDAi31fBAhAo 2018-07-01 14:10:22+00:00  impression   \n",
      "501017  kh1nnkkf7fBiDFDAi31fBAhAo 2018-07-01 14:10:22+00:00  impression   \n",
      "542567  nk37BB1h1DACfoA9fDCo73oin 2018-07-01 14:16:43+00:00  impression   \n",
      "...                           ...                       ...         ...   \n",
      "527747  nCF3337fCABAoBFoBnAhfEffF 2018-07-31 09:37:36+00:00  impression   \n",
      "176117  AkCBfBDEBnoCfoDFEA37f73DC 2018-07-31 10:14:55+00:00  impression   \n",
      "176116  AkCBfBDEBnoCfoDFEA37f73DC 2018-07-31 10:14:55+00:00  impression   \n",
      "291619  DoFB9DoCn3DB1nF9FiCkkCB17 2018-07-31 10:15:42+00:00  impression   \n",
      "291620  DoFB9DoCn3DB1nF9FiCkkCB17 2018-07-31 10:15:42+00:00  impression   \n",
      "\n",
      "        conversion  conversion_value   channel  \n",
      "251665         0.0               0.0  Facebook  \n",
      "251666         0.0               0.0  Facebook  \n",
      "501018         0.0               0.0  Facebook  \n",
      "501017         0.0               0.0  Facebook  \n",
      "542567         0.0               0.0  Facebook  \n",
      "...            ...               ...       ...  \n",
      "527747         0.0               0.0  Facebook  \n",
      "176117         0.0               0.0  Facebook  \n",
      "176116         0.0               0.0  Facebook  \n",
      "291619         0.0               0.0  Facebook  \n",
      "291620         0.0               0.0  Facebook  \n",
      "\n",
      "[8650 rows x 6 columns]\n",
      "\n",
      "Number of Duplicate Rows: 4345\n"
     ]
    }
   ],
   "source": [
    "duplicate_rows = df[df.duplicated(keep=False)]\n",
    "\n",
    "duplicate_rows = duplicate_rows.sort_values(by='time')\n",
    "\n",
    "print(duplicate_rows)\n",
    "\n",
    "num_duplicates = df.duplicated().sum()\n",
    "\n",
    "print(\"\\nNumber of Duplicate Rows:\", num_duplicates)"
   ]
  },
  {
   "cell_type": "markdown",
   "metadata": {},
   "source": [
    "4345 duplicates found"
   ]
  },
  {
   "cell_type": "markdown",
   "metadata": {},
   "source": [
    "Remove the duplicates"
   ]
  },
  {
   "cell_type": "code",
   "execution_count": 317,
   "metadata": {
    "ExecuteTime": {
     "end_time": "2025-03-23T10:07:05.724897Z",
     "start_time": "2025-03-23T10:07:05.096592Z"
    }
   },
   "outputs": [
    {
     "name": "stdout",
     "output_type": "stream",
     "text": [
      "\n",
      "Duplicate Rows after removing duplicates: (0, 6)\n"
     ]
    }
   ],
   "source": [
    "df.drop_duplicates(inplace=True)\n",
    "\n",
    "print(\"\\nDuplicate Rows after removing duplicates:\",df[df.duplicated()].shape)"
   ]
  },
  {
   "cell_type": "markdown",
   "metadata": {},
   "source": [
    "Rows that are duplicate couple with 1 conversion and 1 impresion and dropping the 'impression' one in favour of the conversion"
   ]
  },
  {
   "cell_type": "code",
   "execution_count": 318,
   "metadata": {
    "ExecuteTime": {
     "end_time": "2025-03-23T10:07:06.779005Z",
     "start_time": "2025-03-23T10:07:05.808080Z"
    }
   },
   "outputs": [
    {
     "name": "stdout",
     "output_type": "stream",
     "text": [
      "all dup row based on cookie and time 1556\n",
      "all duplicate row based on cookie and time that are impressions 1362\n",
      "194\n",
      "before drop 582592\n",
      "after drop 582398\n"
     ]
    },
    {
     "data": {
      "text/plain": [
       "1168"
      ]
     },
     "execution_count": 318,
     "metadata": {},
     "output_type": "execute_result"
    }
   ],
   "source": [
    "duplicate_rows = df[df.duplicated(subset=['cookie', 'time'], keep=False)]\n",
    "\n",
    "# Sort the duplicate rows by time\n",
    "duplicate_rows = duplicate_rows.sort_values(by='time')\n",
    "\n",
    "# Filter duplicate_rows where 'interaction' column is 'conversion'\n",
    "print(\"all dup row based on cookie and time\", len(duplicate_rows))\n",
    "impression_duplicates = duplicate_rows[duplicate_rows['interaction'] == 'impression']\n",
    "\n",
    "conversion_duplicates = duplicate_rows[duplicate_rows['interaction'] == 'conversion']\n",
    "#print(conversion_duplicates[['time','cookie']])\n",
    "\n",
    "# Merge and keep all columns from impression duplicates, only 'name' from conversion_duplicates\n",
    "merged_df = impression_duplicates.merge(conversion_duplicates[['cookie', 'time']], on=['cookie', 'time'], how='inner')\n",
    "\n",
    "# Print the result\n",
    "print(\"all duplicate row based on cookie and time that are impressions\",len(impression_duplicates))\n",
    "print(len(conversion_duplicates))\n",
    "# Print the duplicate rows\n",
    "#conversion_rows=duplicate_rows[duplicate_rows['interaction']=='conversion']\n",
    "#print(len(conversion_rows['interaction']=='conversion'))\n",
    "\n",
    "#finds duplicates with same cookie and time in the intial dataframe that have an interaction with 'impression' and removes them\n",
    "print(\"before drop\",len(df))\n",
    "df = df.merge(merged_df, how='left', indicator=True)\n",
    "df = df[df['_merge'] == 'left_only'].drop(columns=['_merge'])\n",
    "print(\"after drop\",len(df))\n",
    "\n",
    "\n",
    "duplicate_rows = df[df.duplicated(subset=['cookie', 'time'], keep=False)]\n",
    "len(duplicate_rows)\n"
   ]
  },
  {
   "cell_type": "markdown",
   "metadata": {},
   "source": [
    "After removing the ones that have an 'impression' and same timestamp with conversion let's proceed to remove the ones that have different channel.\n",
    "Given the popularity of 'Facebook' as a channel I am taking this as a standard value and removing the other ones like 'Instagram'"
   ]
  },
  {
   "cell_type": "markdown",
   "metadata": {},
   "source": [
    "Code belows proves that Facebook is the second most frequent channel so it will take precedence over others."
   ]
  },
  {
   "cell_type": "code",
   "execution_count": 319,
   "metadata": {
    "ExecuteTime": {
     "end_time": "2025-03-23T10:07:07.067929Z",
     "start_time": "2025-03-23T10:07:06.822421Z"
    }
   },
   "outputs": [
    {
     "name": "stdout",
     "output_type": "stream",
     "text": [
      "Number of unique cookies per channel where interaction is 'impression':\n",
      "channel\n",
      "Facebook          85430\n",
      "Instagram         47956\n",
      "Online Display    41292\n",
      "Online Video      39721\n",
      "Paid Search       86076\n",
      "Name: cookie, dtype: int64\n"
     ]
    }
   ],
   "source": [
    "# Filter for rows where interaction is 'impression'\n",
    "impression_rows = df[df['interaction'] == 'impression']\n",
    "\n",
    "# Group by channel and count unique cookies\n",
    "channel_cookie_counts = impression_rows.groupby('channel')['cookie'].nunique()\n",
    "\n",
    "# Print the channel cookie counts\n",
    "print(\"Number of unique cookies per channel where interaction is 'impression':\")\n",
    "print(channel_cookie_counts)"
   ]
  },
  {
   "cell_type": "code",
   "execution_count": 320,
   "metadata": {
    "ExecuteTime": {
     "end_time": "2025-03-23T10:07:07.367154Z",
     "start_time": "2025-03-23T10:07:07.144042Z"
    }
   },
   "outputs": [
    {
     "name": "stdout",
     "output_type": "stream",
     "text": [
      "\n",
      "Occurrences of each channel couple:\n",
      "channels\n",
      "[Facebook, Instagram]            291\n",
      "[Instagram, Facebook]            279\n",
      "[Online Video, Facebook]           6\n",
      "[Facebook, Online Video]           4\n",
      "[Paid Search, Online Display]      1\n",
      "[Instagram, Online Video]          1\n",
      "[Online Video, Instagram]          1\n",
      "[Online Display, Facebook]         1\n",
      "Name: count, dtype: int64\n",
      "                           cookie                      time       channel\n",
      "1169    11E3f3C9AEkA37n3oC3BnhohD 2018-07-11 20:38:38+00:00  Online Video\n",
      "1209    11ECBCfEFkCkCBi7n73EkkhAF 2018-07-31 06:29:24+00:00     Instagram\n",
      "2818    139o3Ef9C791kB799A3Fkn3oA 2018-07-28 14:49:15+00:00     Instagram\n",
      "3600    13F97oEC7DnDn9kiDh9nCCBCf 2018-07-19 11:44:16+00:00     Instagram\n",
      "3758    13fCCCnn3FC3o9fDB779BhFEE 2018-07-19 08:00:11+00:00     Instagram\n",
      "...                           ...                       ...           ...\n",
      "577014  okfEiEFB9ohokE1FFCkBEof1f 2018-07-02 17:38:27+00:00     Instagram\n",
      "577388  okk1hAkA3hfE73iD3i3nFhAo1 2018-07-22 13:03:21+00:00     Instagram\n",
      "578216  on99o7CEh93FknA91n3i7fkB9 2018-07-28 18:19:46+00:00     Instagram\n",
      "579199  onf3DF3B3DonCnEE7EhF7oihf 2018-07-19 13:28:22+00:00     Instagram\n",
      "579201  onf3DF3B3DonCnEE7EhF7oihf 2018-07-19 13:28:54+00:00     Instagram\n",
      "\n",
      "[586 rows x 3 columns]\n"
     ]
    }
   ],
   "source": [
    "# Find duplicate rows based on cookie and time\n",
    "duplicate_rows = df[df.duplicated(subset=['cookie', 'time'], keep=False)]\n",
    "\n",
    "# Group by cookie and time, then aggregate channels into lists\n",
    "channel_couples = duplicate_rows.groupby(['cookie', 'time'])['channel'].apply(list).reset_index(name='channels')\n",
    "\n",
    "# Count the occurrences of each channel couple\n",
    "channel_couple_counts = channel_couples['channels'].value_counts()\n",
    "\n",
    "# Print the channel couple counts\n",
    "print(\"\\nOccurrences of each channel couple:\")\n",
    "print(channel_couple_counts)\n",
    "#Print all that are not Facebook or Paid Search\n",
    "print(duplicate_rows[(duplicate_rows['channel'] != 'Facebook') & (duplicate_rows['channel'] != 'Paid Search')][['cookie', 'time', 'channel']])\n",
    "# Find duplicate rows based on cookie and time such that the channel is not 'Facebook' or 'Paid Search'\n",
    "to_be_removed=duplicate_rows[(duplicate_rows['channel'] != 'Facebook') & (duplicate_rows['channel'] != 'Paid Search')][['cookie', 'time', 'channel']]\n"
   ]
  },
  {
   "cell_type": "markdown",
   "metadata": {},
   "source": [
    "Doing a left join adding an indicator _merged that will get a left_only for the ones matched in df and 'both' when it join based on same cookie, time and channel with the to_be_removed dataframe which is basically everything not facebook or paid search "
   ]
  },
  {
   "cell_type": "code",
   "execution_count": 321,
   "metadata": {
    "ExecuteTime": {
     "end_time": "2025-03-23T10:07:08.045666Z",
     "start_time": "2025-03-23T10:07:07.374121Z"
    }
   },
   "outputs": [
    {
     "name": "stdout",
     "output_type": "stream",
     "text": [
      "duplicates before drop: 1168\n",
      "before drop 582398\n",
      "after drop 581812\n"
     ]
    }
   ],
   "source": [
    "\n",
    "print('duplicates before drop:',len(df[df.duplicated(subset=['cookie', 'time'], keep=False)]))\n",
    "\n",
    "# Merge the to_be_removed DataFrame with the original DataFrame , a LEFT JOIN\n",
    "df=df.merge(to_be_removed, how='left', on=['cookie','time','channel'], indicator=True)\n",
    "\n",
    "print(\"before drop\",len(df))\n",
    "#print(df[df['_merge'] == 'both'])\n",
    "\n",
    "# Drop rows where the merge indicator is both meaning a match was found\n",
    "df = df.drop(df[df['_merge'] == 'both'].index)\n",
    "\n",
    "# Drop the merge indicator column\n",
    "df = df.drop(columns=['_merge'])\n",
    "\n",
    "print(\"after drop\",len(df))\n"
   ]
  },
  {
   "cell_type": "markdown",
   "metadata": {},
   "source": [
    "Final check on duplicates"
   ]
  },
  {
   "cell_type": "code",
   "execution_count": 322,
   "metadata": {
    "ExecuteTime": {
     "end_time": "2025-03-23T10:07:08.282126Z",
     "start_time": "2025-03-23T10:07:08.087497Z"
    }
   },
   "outputs": [
    {
     "name": "stdout",
     "output_type": "stream",
     "text": [
      "581812\n",
      "duplicates after drop: 0\n"
     ]
    }
   ],
   "source": [
    "print(len(df))\n",
    "print(\"duplicates after drop:\",len(df[df.duplicated(subset=['cookie', 'time'], keep=False)]))"
   ]
  },
  {
   "cell_type": "markdown",
   "metadata": {},
   "source": [
    "Detect the Outliers via the Interquartile Range Method Rule"
   ]
  },
  {
   "cell_type": "code",
   "execution_count": 323,
   "metadata": {
    "ExecuteTime": {
     "end_time": "2025-03-23T10:07:08.351981Z",
     "start_time": "2025-03-23T10:07:08.323825Z"
    }
   },
   "outputs": [
    {
     "name": "stdout",
     "output_type": "stream",
     "text": [
      "Q1 (excluding 0 values): 335.5\n",
      "Q3 (excluding 0 values): 427.0\n",
      "Lower bound (excluding 0 values): 198.25\n",
      "Upper bound (excluding 0 values): 564.25\n",
      "IQR (excluding 0 values): 91.5\n",
      "Outliers (excluding 0 values):\n",
      "                        cookie                      time interaction  \\\n",
      "943  11CFhDAEAFkf1Ah73AD77C1no 2018-07-24 19:56:55+00:00  conversion   \n",
      "\n",
      "     conversion  conversion_value   channel  \n",
      "943         1.0        10000000.0  Facebook  \n",
      "\n",
      "Number of Outliers: 1\n"
     ]
    },
    {
     "data": {
      "text/plain": [
       "581812"
      ]
     },
     "execution_count": 323,
     "metadata": {},
     "output_type": "execute_result"
    }
   ],
   "source": [
    "# Filter for rows where interaction is 'conversion', we want to exclude the ones with 0 as we want to check for outliers in terms of value of purchase\n",
    "df_filtered = df[df['conversion_value'] != 0]\n",
    "\n",
    "# Calculate Q1 and Q3 on the filtered data \n",
    "#Q1 is the value below which 25% of the data falls\n",
    "Q1 = df_filtered['conversion_value'].quantile(0.25)\n",
    "#Q3 is the value below which 75% of the data falls\n",
    "Q3 = df_filtered['conversion_value'].quantile(0.75)\n",
    "#Interquartile range\n",
    "IQR = Q3 - Q1\n",
    "\n",
    "# Define the multiplier for outliers\n",
    "multiplier = 1.5\n",
    "\n",
    "# Calculate the lower and upper bounds for outliers\n",
    "lower_bound = Q1 - multiplier * IQR\n",
    "upper_bound = Q3 + multiplier * IQR\n",
    "\n",
    "# Identify outliers\n",
    "# Filter for rows where conversion_value is an outlier (below lower bound or above upper bound)\n",
    "outliers = df_filtered[(df_filtered['conversion_value'] < lower_bound) | (df_filtered['conversion_value'] > upper_bound)]\n",
    "\n",
    "# Print the outliers\n",
    "print(\"Q1 (excluding 0 values):\", Q1)\n",
    "print(\"Q3 (excluding 0 values):\", Q3)\n",
    "print(\"Lower bound (excluding 0 values):\", lower_bound)\n",
    "print(\"Upper bound (excluding 0 values):\", upper_bound)\n",
    "print(\"IQR (excluding 0 values):\", IQR)\n",
    "print(\"Outliers (excluding 0 values):\")\n",
    "print(outliers)\n",
    "\n",
    "# Print the number of outliers\n",
    "print(\"\\nNumber of Outliers:\", len(outliers))\n",
    "len(df)"
   ]
  },
  {
   "cell_type": "markdown",
   "metadata": {},
   "source": [
    "Remove the outliers"
   ]
  },
  {
   "cell_type": "code",
   "execution_count": 324,
   "metadata": {
    "ExecuteTime": {
     "end_time": "2025-03-23T10:07:08.540311Z",
     "start_time": "2025-03-23T10:07:08.391376Z"
    }
   },
   "outputs": [
    {
     "name": "stdout",
     "output_type": "stream",
     "text": [
      "Shape of DataFrame after removing outliers: (581811, 6)\n",
      "<class 'pandas.core.frame.DataFrame'>\n",
      "Index: 581811 entries, 0 to 582397\n",
      "Data columns (total 6 columns):\n",
      " #   Column            Non-Null Count   Dtype              \n",
      "---  ------            --------------   -----              \n",
      " 0   cookie            581811 non-null  object             \n",
      " 1   time              581811 non-null  datetime64[ns, UTC]\n",
      " 2   interaction       581811 non-null  object             \n",
      " 3   conversion        581811 non-null  float64            \n",
      " 4   conversion_value  581811 non-null  float64            \n",
      " 5   channel           581811 non-null  object             \n",
      "dtypes: datetime64[ns, UTC](1), float64(2), object(3)\n",
      "memory usage: 31.1+ MB\n"
     ]
    }
   ],
   "source": [
    "# Remove outliers \n",
    "df = df.drop(outliers.index)\n",
    "\n",
    "# Display the shape of the DataFrame after removing outliers\n",
    "print(\"Shape of DataFrame after removing outliers:\", df.shape)\n",
    "len(df)\n",
    "df.info()"
   ]
  },
  {
   "cell_type": "markdown",
   "metadata": {},
   "source": [
    "Show aggregate functions per channel"
   ]
  },
  {
   "cell_type": "code",
   "execution_count": 325,
   "metadata": {
    "ExecuteTime": {
     "end_time": "2025-03-23T10:07:08.659822Z",
     "start_time": "2025-03-23T10:07:08.579814Z"
    }
   },
   "outputs": [
    {
     "name": "stdout",
     "output_type": "stream",
     "text": [
      "                  min    max        mean  median  count\n",
      "channel                                                \n",
      "Facebook        244.0  518.5  381.388113   396.5   5300\n",
      "Instagram       244.0  518.5  381.644162   396.5   2244\n",
      "Online Display  244.0  518.5  379.246611   366.0   2139\n",
      "Online Video    244.0  518.5  383.362089   396.5   3408\n",
      "Paid Search     244.0  518.5  380.079503   366.0   4547\n",
      "channel\n",
      "Facebook          175036\n",
      "Instagram          74505\n",
      "Online Display     70875\n",
      "Online Video      110757\n",
      "Paid Search       150638\n",
      "Name: touchpoints, dtype: int64\n"
     ]
    }
   ],
   "source": [
    "# Grouping by channel and counting the number of conversions\n",
    "channel_stats = df[df['conversion'] == 1].groupby('channel')['conversion_value'].agg(['min', 'max', 'mean', 'median', 'count'])\n",
    "\n",
    "# Print the results\n",
    "print(channel_stats)\n",
    "\n",
    "# Save the number of touchpoints per channel for conversion rate later on in the code\n",
    "touchpoints = df.groupby('channel')['interaction'].agg('count')\n",
    "\n",
    "# Rename the column to 'touchpoints'\n",
    "touchpoints.name = 'touchpoints'\n",
    "\n",
    "# Display the touchpoints\n",
    "print(touchpoints)\n"
   ]
  },
  {
   "cell_type": "markdown",
   "metadata": {},
   "source": [
    "Chart to plot time series revenue per daily"
   ]
  },
  {
   "cell_type": "code",
   "execution_count": 326,
   "metadata": {},
   "outputs": [
    {
     "name": "stdout",
     "output_type": "stream",
     "text": [
      "conversions per channel\n",
      "Facebook          5300.0\n",
      "Instagram         2244.0\n",
      "Online Display    2139.0\n",
      "Online Video      3408.0\n",
      "Paid Search       4547.0\n",
      "Name: conversion, dtype: float64\n",
      "Total sessions: 240107\n",
      "Total revenue: 6723694.5\n"
     ]
    },
    {
     "data": {
      "image/png": "[encoded data removed]",
      "text/plain": [
       "<Figure size 1000x600 with 1 Axes>"
      ]
     },
     "metadata": {},
     "output_type": "display_data"
    },
    {
     "name": "stdout",
     "output_type": "stream",
     "text": [
      "Revenue per day time\n",
      "2018-07-01    157685.0\n",
      "2018-07-02    213103.5\n",
      "2018-07-03    242841.0\n",
      "2018-07-04    239577.5\n",
      "2018-07-05    169183.5\n",
      "2018-07-06    179187.5\n",
      "2018-07-07    213866.0\n",
      "2018-07-08    196786.0\n",
      "2018-07-09    219203.5\n",
      "2018-07-10    222772.0\n",
      "2018-07-11    288835.0\n",
      "2018-07-12    273615.5\n",
      "2018-07-13    222436.5\n",
      "2018-07-14    271480.5\n",
      "2018-07-15    266905.5\n",
      "2018-07-16    260561.5\n",
      "2018-07-17    283406.0\n",
      "2018-07-18    283680.5\n",
      "2018-07-19    268064.5\n",
      "2018-07-20    214506.5\n",
      "2018-07-21    233081.0\n",
      "2018-07-22    235338.0\n",
      "2018-07-23    220149.0\n",
      "2018-07-24    170922.0\n",
      "2018-07-25    198067.0\n",
      "2018-07-26    198677.0\n",
      "2018-07-27    152195.0\n",
      "2018-07-28    177052.5\n",
      "2018-07-29    226920.0\n",
      "2018-07-30    162229.5\n",
      "Name: conversion_value, dtype: float64\n",
      "All interactions per channel channel\n",
      "Facebook          175036\n",
      "Instagram          74505\n",
      "Online Display     70875\n",
      "Online Video      110757\n",
      "Paid Search       150638\n",
      "Name: interaction, dtype: int64\n"
     ]
    }
   ],
   "source": [
    "print('conversions per', df.groupby('channel')['conversion'].agg('sum'))\n",
    "total_sessions = df['cookie'].nunique()\n",
    "print(f'Total sessions: {total_sessions}')\n",
    "total_revenue = df['conversion_value'].sum()\n",
    "print(f'Total revenue: {total_revenue}')\n",
    "# Ensure the 'time' column is in datetime format\n",
    "df['time'] = pd.to_datetime(df['time'])\n",
    "\n",
    "# Group by date (ignoring the time component) and calculate the total revenue per day\n",
    "daily_revenue = df.groupby(df['time'].dt.date)['conversion_value'].agg('sum')\n",
    "\n",
    "# Remove the last day from the data\n",
    "daily_revenue = daily_revenue.iloc[:-1]\n",
    "\n",
    "# Smooth the line using spline interpolation\n",
    "x = np.arange(len(daily_revenue))  # Create an array of indices for the x-axis\n",
    "y = daily_revenue.values  # Get the revenue values\n",
    "x_smooth = np.linspace(x.min(), x.max(), 300)  # Create a smoother x-axis\n",
    "y_smooth = make_interp_spline(x, y)(x_smooth)  # Interpolate the y-axis values\n",
    "\n",
    "# Plot the smoothed line\n",
    "plt.figure(figsize=(10, 6))\n",
    "plt.plot(x_smooth, y_smooth, color='#41042C', linewidth=2)  # Smooth line without markers\n",
    "\n",
    "# Format x-axis labels to show day of the month and day of the week\n",
    "formatted_labels = [date.strftime('%d %a') for date in daily_revenue.index]  # Format as 'day of month day of week'\n",
    "plt.xticks(ticks=np.arange(len(daily_revenue)), labels=formatted_labels, rotation=45)\n",
    "\n",
    "# Add titles and labels\n",
    "plt.title('Daily Revenue', fontsize=16)\n",
    "plt.xlabel('Date', fontsize=12)\n",
    "plt.ylabel('Total Revenue', fontsize=12)\n",
    "\n",
    "# Add grid for better readability\n",
    "plt.grid(True)\n",
    "\n",
    "# Adjust layout for clarity\n",
    "plt.tight_layout()\n",
    "\n",
    "# Display the plot\n",
    "plt.show()\n",
    "\n",
    "# Print the daily revenue\n",
    "print(\"Revenue per day\", daily_revenue)\n",
    "\n",
    "cleanimpressions=print(\"All interactions per channel\",df.groupby('channel')['interaction'].agg('count'))"
   ]
  },
  {
   "cell_type": "markdown",
   "metadata": {},
   "source": [
    "Chart to demonstrate which channel has the most touchpoints (impressions + conversions)"
   ]
  },
  {
   "cell_type": "code",
   "execution_count": 327,
   "metadata": {},
   "outputs": [
    {
     "data": {
      "image/png": "[encoded data removed]",
      "text/plain": [
       "<Figure size 1000x800 with 1 Axes>"
      ]
     },
     "metadata": {},
     "output_type": "display_data"
    }
   ],
   "source": [
    "# Group by 'channel' and count the number of interactions\n",
    "cleanimpressions = df.groupby('channel')['interaction'].agg('count').reset_index()\n",
    "cleanimpressions.columns = ['channel', 'touchpoints']  # Rename columns for clarity\n",
    "\n",
    "# Sort the DataFrame by the 'impressions' column in ascending order\n",
    "cleanimpressions = cleanimpressions.sort_values(by='touchpoints', ascending=True)\n",
    "\n",
    "# HEX codes for colours from TBAuction website\n",
    "colors = ['#41042C', '#9baf7e', '#357b49', '#0073AA','#170B53']\n",
    "\n",
    "# Plot cleanimpressions as a bar chart\n",
    "ax = cleanimpressions.plot(\n",
    "    x='channel',  # Use 'channel' as the x-axis\n",
    "    y='touchpoints',  # Use 'impressions' as the y-axis\n",
    "    kind='bar', \n",
    "    figsize=(10, 8), \n",
    "    color=colors,  # Set a custom color for the bars\n",
    "    width=0.8,\n",
    "    legend=False  # Hide the legend since there's only one bar type\n",
    ")\n",
    "\n",
    "# Customize x-axis labels and rotation\n",
    "plt.xticks(rotation=45)  # Rotate the x-axis labels for better readability\n",
    "\n",
    "# Add titles and axis labels\n",
    "plt.title('Touchpoints per Channel', fontsize=16)\n",
    "plt.xlabel('Channel', fontsize=12)\n",
    "plt.ylabel('Number of Touchpoints', fontsize=12)\n",
    "\n",
    "# Automatically add data labels to the bars\n",
    "for container in ax.containers:\n",
    "    ax.bar_label(container, fmt='%.0f', label_type='edge', fontsize=9)\n",
    "\n",
    "# Adjust the y-axis range to add more space above the bars\n",
    "max_y = cleanimpressions['touchpoints'].max()  # Find the maximum value in the 'impressions' column\n",
    "plt.ylim(0, max_y * 1.1)  # Add 10% extra space above the tallest bar\n",
    "\n",
    "# Adjust layout for clarity\n",
    "plt.tight_layout()\n",
    "\n",
    "# Display the plot\n",
    "plt.show()"
   ]
  },
  {
   "cell_type": "markdown",
   "metadata": {},
   "source": [
    "Transform the data frame to become a Path Oriented data frame to use for attribution modelling and markov chains\n",
    "following the guidelines in this package : https://github.com/jmwoloso/pychattr\n",
    "    \"path\": [\n",
    "        \"A >>> B >>> A >>> B >>> B >>> A\",\n",
    "        \"A >>> B >>> B >>> A >>> A\",\n",
    "        \"A >>> A\"\n",
    "    ],\n",
    "    \"conversions\": [1, 1, 1],\n",
    "    \"revenue\": [1, 1, 1],\n",
    "    \"cost\": [1, 1, 1]\n",
    "\n",
    "    There is no cost given so we will not use that one for our further analysis. Although that would be excellent for ROI calculation."
   ]
  },
  {
   "cell_type": "code",
   "execution_count": 328,
   "metadata": {
    "ExecuteTime": {
     "end_time": "2025-03-23T10:07:14.230211Z",
     "start_time": "2025-03-23T10:07:08.864061Z"
    }
   },
   "outputs": [
    {
     "data": {
      "text/plain": [
       "17638"
      ]
     },
     "execution_count": 328,
     "metadata": {},
     "output_type": "execute_result"
    }
   ],
   "source": [
    "# Step 1: Sort by cookie and time to maintain sequence\n",
    "df = df.sort_values(['cookie', 'time'])\n",
    "\n",
    "# Step 2: Group by cookie\n",
    "result = df.groupby('cookie').agg({\n",
    "    # add >>> between channels as delimiter because this is a prerequiste for the library we are going to use later on \n",
    "    'channel': lambda x: ' >>> '.join(x),\n",
    "    # will grab 1 if there is a conversion and 0 if there is not\n",
    "    'conversion': 'max',\n",
    "    # calculate the sum of conversion values = revenue\n",
    "    'conversion_value': 'sum'\n",
    "}).reset_index()\n",
    "\n",
    "\n",
    "# Step 3: Rename columns => channel to path and conversion to conversions and conversion_value to revenue\n",
    "result.rename(columns={'channel': 'path', 'conversion': 'conversions', 'conversion_value': 'revenue'}, inplace=True)\n",
    "\n",
    "# Step 4: Drop cookie column if not needed\n",
    "result = result[['path', 'conversions', 'revenue']]\n",
    "# Change the data type of the conversions column to integer\n",
    "result['conversions'] = result['conversions'].astype(int)\n",
    "# Filter for paths with at least one conversion\n",
    "pathdf=result[result['conversions']>0]\n",
    "# Show the number of paths\n",
    "len(pathdf)"
   ]
  },
  {
   "cell_type": "markdown",
   "metadata": {},
   "source": [
    "Preparing the model from pychattr following the guidelines in this package : https://github.com/jmwoloso/pychattr"
   ]
  },
  {
   "cell_type": "code",
   "execution_count": 329,
   "metadata": {
    "ExecuteTime": {
     "end_time": "2025-03-23T10:07:14.561641Z",
     "start_time": "2025-03-23T10:07:14.258334Z"
    }
   },
   "outputs": [
    {
     "data": {
      "text/plain": [
       "<pychattr.channel_attribution.markov.MarkovModel at 0x1260a7590>"
      ]
     },
     "execution_count": 329,
     "metadata": {},
     "output_type": "execute_result"
    }
   ],
   "source": [
    "path_feature=\"path\"\n",
    "conversion_feature=\"conversions\"\n",
    "null_feature=None\n",
    "revenue_feature=\"revenue\"\n",
    "cost_feature=\"cost\"\n",
    "separator=\">>>\"\n",
    "k_order=1\n",
    "n_simulations=10000\n",
    "max_steps=None\n",
    "return_transition_probs=True\n",
    "random_state=26\n",
    "\n",
    "# instantiate the model\n",
    "mm = MarkovModel(path_feature=path_feature,\n",
    "                 conversion_feature=conversion_feature,\n",
    "                 null_feature=null_feature,\n",
    "                 revenue_feature=revenue_feature,\n",
    "                 cost_feature=cost_feature,\n",
    "                 separator=separator,\n",
    "                 k_order=k_order,\n",
    "                 n_simulations=n_simulations,\n",
    "                 max_steps=max_steps,\n",
    "                 return_transition_probs=return_transition_probs,\n",
    "                 random_state=random_state)\n",
    "\n",
    "# fit the model\n",
    "mm.fit(pathdf)"
   ]
  },
  {
   "cell_type": "code",
   "execution_count": 330,
   "metadata": {
    "ExecuteTime": {
     "end_time": "2025-03-23T10:07:14.572178Z",
     "start_time": "2025-03-23T10:07:14.568587Z"
    }
   },
   "outputs": [],
   "source": [
    "mm.attribution_model_\n",
    "mm.attribution_model_.rename(columns={\n",
    "    'channel_name': 'channel',\n",
    "    'total_conversions': 'markov_conversions',\n",
    "    'total_revenue': 'markov_revenue'\n",
    "}, inplace=True)\n"
   ]
  },
  {
   "cell_type": "code",
   "execution_count": 331,
   "metadata": {
    "ExecuteTime": {
     "end_time": "2025-03-23T10:07:14.657352Z",
     "start_time": "2025-03-23T10:07:14.650700Z"
    }
   },
   "outputs": [
    {
     "data": {
      "application/vnd.microsoft.datawrangler.viewer.v0+json": {
       "columns": [
        {
         "name": "index",
         "rawType": "int64",
         "type": "integer"
        },
        {
         "name": "channel",
         "rawType": "object",
         "type": "string"
        },
        {
         "name": "markov_conversions",
         "rawType": "float64",
         "type": "float"
        },
        {
         "name": "markov_revenue",
         "rawType": "float64",
         "type": "float"
        }
       ],
       "conversionMethod": "pd.DataFrame",
       "ref": "e049b2df-c640-4f90-9e7d-2ba4cc8eeb00",
       "rows": [
        [
         "0",
         "Paid Search",
         "4038.7910647234776",
         "1535043.876434649"
        ],
        [
         "1",
         "Facebook",
         "5308.349901355566",
         "2019281.936039301"
        ],
        [
         "2",
         "Online Video",
         "2788.3148984916947",
         "1069636.727327715"
        ],
        [
         "3",
         "Instagram",
         "3455.085852478839",
         "1315805.5990428894"
        ],
        [
         "4",
         "Online Display",
         "2047.4582829504232",
         "783926.3611554453"
        ]
       ],
       "shape": {
        "columns": 3,
        "rows": 5
       }
      },
      "text/html": [
       "<div>\n",
       "<style scoped>\n",
       "    .dataframe tbody tr th:only-of-type {\n",
       "        vertical-align: middle;\n",
       "    }\n",
       "\n",
       "    .dataframe tbody tr th {\n",
       "        vertical-align: top;\n",
       "    }\n",
       "\n",
       "    .dataframe thead th {\n",
       "        text-align: right;\n",
       "    }\n",
       "</style>\n",
       "<table border=\"1\" class=\"dataframe\">\n",
       "  <thead>\n",
       "    <tr style=\"text-align: right;\">\n",
       "      <th></th>\n",
       "      <th>channel</th>\n",
       "      <th>markov_conversions</th>\n",
       "      <th>markov_revenue</th>\n",
       "    </tr>\n",
       "  </thead>\n",
       "  <tbody>\n",
       "    <tr>\n",
       "      <th>0</th>\n",
       "      <td>Paid Search</td>\n",
       "      <td>4038.791065</td>\n",
       "      <td>1.535044e+06</td>\n",
       "    </tr>\n",
       "    <tr>\n",
       "      <th>1</th>\n",
       "      <td>Facebook</td>\n",
       "      <td>5308.349901</td>\n",
       "      <td>2.019282e+06</td>\n",
       "    </tr>\n",
       "    <tr>\n",
       "      <th>2</th>\n",
       "      <td>Online Video</td>\n",
       "      <td>2788.314898</td>\n",
       "      <td>1.069637e+06</td>\n",
       "    </tr>\n",
       "    <tr>\n",
       "      <th>3</th>\n",
       "      <td>Instagram</td>\n",
       "      <td>3455.085852</td>\n",
       "      <td>1.315806e+06</td>\n",
       "    </tr>\n",
       "    <tr>\n",
       "      <th>4</th>\n",
       "      <td>Online Display</td>\n",
       "      <td>2047.458283</td>\n",
       "      <td>7.839264e+05</td>\n",
       "    </tr>\n",
       "  </tbody>\n",
       "</table>\n",
       "</div>"
      ],
      "text/plain": [
       "          channel  markov_conversions  markov_revenue\n",
       "0     Paid Search         4038.791065    1.535044e+06\n",
       "1        Facebook         5308.349901    2.019282e+06\n",
       "2    Online Video         2788.314898    1.069637e+06\n",
       "3       Instagram         3455.085852    1.315806e+06\n",
       "4  Online Display         2047.458283    7.839264e+05"
      ]
     },
     "execution_count": 331,
     "metadata": {},
     "output_type": "execute_result"
    }
   ],
   "source": [
    "mm.attribution_model_"
   ]
  },
  {
   "cell_type": "code",
   "execution_count": 332,
   "metadata": {
    "ExecuteTime": {
     "end_time": "2025-03-23T10:07:14.692051Z",
     "start_time": "2025-03-23T10:07:14.690007Z"
    }
   },
   "outputs": [],
   "source": [
    "# view the transition matrix\n",
    "#sorted_df = mm.transition_matrix_.sort_values(by='transition_probability', ascending=False)\n",
    "#print(sorted_df)\n"
   ]
  },
  {
   "cell_type": "code",
   "execution_count": 333,
   "metadata": {
    "ExecuteTime": {
     "end_time": "2025-03-23T10:07:14.728227Z",
     "start_time": "2025-03-23T10:07:14.726294Z"
    }
   },
   "outputs": [],
   "source": [
    "# view the removal effects\n",
    "#print(mm.removal_effects_)"
   ]
  },
  {
   "cell_type": "markdown",
   "metadata": {},
   "source": [
    "Preparing the data for other models for first, last and linear touch"
   ]
  },
  {
   "cell_type": "code",
   "execution_count": 334,
   "metadata": {
    "ExecuteTime": {
     "end_time": "2025-03-23T10:08:09.406475Z",
     "start_time": "2025-03-23T10:07:14.803475Z"
    }
   },
   "outputs": [
    {
     "data": {
      "text/plain": [
       "<pychattr.channel_attribution.heuristic.HeuristicModel at 0x12e57de50>"
      ]
     },
     "execution_count": 334,
     "metadata": {},
     "output_type": "execute_result"
    }
   ],
   "source": [
    "path_feature=\"path\"\n",
    "conversion_feature=\"conversions\"\n",
    "null_feature=None\n",
    "revenue_feature=\"revenue\"\n",
    "separator=\">>>\"\n",
    "first_touch=True\n",
    "last_touch=True\n",
    "linear_touch=True\n",
    "\n",
    "# instantiate the model\n",
    "hm = HeuristicModel(path_feature=path_feature,\n",
    "                    conversion_feature=conversion_feature,\n",
    "                    null_feature=null_feature,\n",
    "                    revenue_feature=revenue_feature,\n",
    "                    separator=separator,\n",
    "                    first_touch=first_touch,\n",
    "                    last_touch=last_touch,\n",
    "                    linear_touch=linear_touch,)\n",
    "\n",
    "# fit the model\n",
    "pathdf = pathdf.reset_index(drop=True)\n",
    "hm.fit(pathdf)"
   ]
  },
  {
   "cell_type": "code",
   "execution_count": null,
   "metadata": {
    "ExecuteTime": {
     "end_time": "2025-03-23T10:08:09.424108Z",
     "start_time": "2025-03-23T10:08:09.415249Z"
    }
   },
   "outputs": [
    {
     "name": "stdout",
     "output_type": "stream",
     "text": [
      "          channel  first_touch_conversions  first_touch_revenue  \\\n",
      "0        Facebook                   5182.0            1970879.5   \n",
      "1       Instagram                   2323.0             887336.5   \n",
      "2  Online Display                   2160.0             818559.0   \n",
      "3    Online Video                   3216.0            1233755.5   \n",
      "4     Paid Search                   4757.0            1813164.0   \n",
      "\n",
      "   last_touch_conversions  last_touch_revenue  linear_touch_conversions  \\\n",
      "0                  5300.0           2021357.0               5225.010197   \n",
      "1                  2244.0            856409.5               2259.650533   \n",
      "2                  2139.0            811208.5               2126.186673   \n",
      "3                  3408.0           1306498.0               3346.348255   \n",
      "4                  4547.0           1728221.5               4680.804342   \n",
      "\n",
      "   linear_touch_revenue  ensemble_conversions  ensemble_revenue  \n",
      "0          1.991754e+06          15707.010197      5.983990e+06  \n",
      "1          8.623901e+05           6826.650533      2.606136e+06  \n",
      "2          8.062198e+05           6425.186673      2.435987e+06  \n",
      "3          1.282607e+06           9970.348255      3.822861e+06  \n",
      "4          1.780724e+06          13984.804342      5.322109e+06  \n"
     ]
    }
   ],
   "source": [
    "hm.attribution_model_"
   ]
  },
  {
   "cell_type": "markdown",
   "metadata": {},
   "source": []
  },
  {
   "cell_type": "markdown",
   "metadata": {},
   "source": [
    "Dropping the ensemble model"
   ]
  },
  {
   "cell_type": "code",
   "execution_count": 337,
   "metadata": {
    "ExecuteTime": {
     "end_time": "2025-03-23T10:08:09.551857Z",
     "start_time": "2025-03-23T10:08:09.542213Z"
    }
   },
   "outputs": [
    {
     "data": {
      "application/vnd.microsoft.datawrangler.viewer.v0+json": {
       "columns": [
        {
         "name": "index",
         "rawType": "int64",
         "type": "integer"
        },
        {
         "name": "channel",
         "rawType": "object",
         "type": "string"
        },
        {
         "name": "first_touch_conversions",
         "rawType": "float64",
         "type": "float"
        },
        {
         "name": "first_touch_revenue",
         "rawType": "float64",
         "type": "float"
        },
        {
         "name": "last_touch_conversions",
         "rawType": "float64",
         "type": "float"
        },
        {
         "name": "last_touch_revenue",
         "rawType": "float64",
         "type": "float"
        },
        {
         "name": "linear_touch_conversions",
         "rawType": "float64",
         "type": "float"
        },
        {
         "name": "linear_touch_revenue",
         "rawType": "float64",
         "type": "float"
        }
       ],
       "conversionMethod": "pd.DataFrame",
       "ref": "cb5db3d7-9a0a-4d53-9d73-561e05d32011",
       "rows": [
        [
         "0",
         "Facebook",
         "5182.0",
         "1970879.5",
         "5300.0",
         "2021357.0",
         "5225.010197106856",
         "1991753.7435347016"
        ],
        [
         "1",
         "Instagram",
         "2323.0",
         "887336.5",
         "2244.0",
         "856409.5",
         "2259.650532676954",
         "862390.090451891"
        ],
        [
         "2",
         "Online Display",
         "2160.0",
         "818559.0",
         "2139.0",
         "811208.5",
         "2126.1866730409574",
         "806219.8336457232"
        ],
        [
         "3",
         "Online Video",
         "3216.0",
         "1233755.5",
         "3408.0",
         "1306498.0",
         "3346.348255180329",
         "1282607.3258268149"
        ],
        [
         "4",
         "Paid Search",
         "4757.0",
         "1813164.0",
         "4547.0",
         "1728221.5",
         "4680.804341994904",
         "1780723.5065408694"
        ]
       ],
       "shape": {
        "columns": 7,
        "rows": 5
       }
      },
      "text/html": [
       "<div>\n",
       "<style scoped>\n",
       "    .dataframe tbody tr th:only-of-type {\n",
       "        vertical-align: middle;\n",
       "    }\n",
       "\n",
       "    .dataframe tbody tr th {\n",
       "        vertical-align: top;\n",
       "    }\n",
       "\n",
       "    .dataframe thead th {\n",
       "        text-align: right;\n",
       "    }\n",
       "</style>\n",
       "<table border=\"1\" class=\"dataframe\">\n",
       "  <thead>\n",
       "    <tr style=\"text-align: right;\">\n",
       "      <th></th>\n",
       "      <th>channel</th>\n",
       "      <th>first_touch_conversions</th>\n",
       "      <th>first_touch_revenue</th>\n",
       "      <th>last_touch_conversions</th>\n",
       "      <th>last_touch_revenue</th>\n",
       "      <th>linear_touch_conversions</th>\n",
       "      <th>linear_touch_revenue</th>\n",
       "    </tr>\n",
       "  </thead>\n",
       "  <tbody>\n",
       "    <tr>\n",
       "      <th>0</th>\n",
       "      <td>Facebook</td>\n",
       "      <td>5182.0</td>\n",
       "      <td>1970879.5</td>\n",
       "      <td>5300.0</td>\n",
       "      <td>2021357.0</td>\n",
       "      <td>5225.010197</td>\n",
       "      <td>1.991754e+06</td>\n",
       "    </tr>\n",
       "    <tr>\n",
       "      <th>1</th>\n",
       "      <td>Instagram</td>\n",
       "      <td>2323.0</td>\n",
       "      <td>887336.5</td>\n",
       "      <td>2244.0</td>\n",
       "      <td>856409.5</td>\n",
       "      <td>2259.650533</td>\n",
       "      <td>8.623901e+05</td>\n",
       "    </tr>\n",
       "    <tr>\n",
       "      <th>2</th>\n",
       "      <td>Online Display</td>\n",
       "      <td>2160.0</td>\n",
       "      <td>818559.0</td>\n",
       "      <td>2139.0</td>\n",
       "      <td>811208.5</td>\n",
       "      <td>2126.186673</td>\n",
       "      <td>8.062198e+05</td>\n",
       "    </tr>\n",
       "    <tr>\n",
       "      <th>3</th>\n",
       "      <td>Online Video</td>\n",
       "      <td>3216.0</td>\n",
       "      <td>1233755.5</td>\n",
       "      <td>3408.0</td>\n",
       "      <td>1306498.0</td>\n",
       "      <td>3346.348255</td>\n",
       "      <td>1.282607e+06</td>\n",
       "    </tr>\n",
       "    <tr>\n",
       "      <th>4</th>\n",
       "      <td>Paid Search</td>\n",
       "      <td>4757.0</td>\n",
       "      <td>1813164.0</td>\n",
       "      <td>4547.0</td>\n",
       "      <td>1728221.5</td>\n",
       "      <td>4680.804342</td>\n",
       "      <td>1.780724e+06</td>\n",
       "    </tr>\n",
       "  </tbody>\n",
       "</table>\n",
       "</div>"
      ],
      "text/plain": [
       "          channel  first_touch_conversions  first_touch_revenue  \\\n",
       "0        Facebook                   5182.0            1970879.5   \n",
       "1       Instagram                   2323.0             887336.5   \n",
       "2  Online Display                   2160.0             818559.0   \n",
       "3    Online Video                   3216.0            1233755.5   \n",
       "4     Paid Search                   4757.0            1813164.0   \n",
       "\n",
       "   last_touch_conversions  last_touch_revenue  linear_touch_conversions  \\\n",
       "0                  5300.0           2021357.0               5225.010197   \n",
       "1                  2244.0            856409.5               2259.650533   \n",
       "2                  2139.0            811208.5               2126.186673   \n",
       "3                  3408.0           1306498.0               3346.348255   \n",
       "4                  4547.0           1728221.5               4680.804342   \n",
       "\n",
       "   linear_touch_revenue  \n",
       "0          1.991754e+06  \n",
       "1          8.623901e+05  \n",
       "2          8.062198e+05  \n",
       "3          1.282607e+06  \n",
       "4          1.780724e+06  "
      ]
     },
     "execution_count": 337,
     "metadata": {},
     "output_type": "execute_result"
    }
   ],
   "source": [
    "newhm=hm.attribution_model_.drop(columns=['ensemble_conversions','ensemble_revenue'])\n",
    "newhm"
   ]
  },
  {
   "cell_type": "markdown",
   "metadata": {},
   "source": [
    "Join Markov Chain result with First/Last/Linear mode to create one data frame and also adding "
   ]
  },
  {
   "cell_type": "code",
   "execution_count": null,
   "metadata": {
    "ExecuteTime": {
     "end_time": "2025-03-23T10:20:17.160360Z",
     "start_time": "2025-03-23T10:20:17.136749Z"
    }
   },
   "outputs": [
    {
     "name": "stdout",
     "output_type": "stream",
     "text": [
      "          channel  first_touch_conversions  first_touch_revenue  \\\n",
      "0        Facebook                   5182.0            1970879.5   \n",
      "1       Instagram                   2323.0             887336.5   \n",
      "2  Online Display                   2160.0             818559.0   \n",
      "3    Online Video                   3216.0            1233755.5   \n",
      "4     Paid Search                   4757.0            1813164.0   \n",
      "\n",
      "   last_touch_conversions  last_touch_revenue  linear_touch_conversions  \\\n",
      "0                  5300.0           2021357.0               5225.010197   \n",
      "1                  2244.0            856409.5               2259.650533   \n",
      "2                  2139.0            811208.5               2126.186673   \n",
      "3                  3408.0           1306498.0               3346.348255   \n",
      "4                  4547.0           1728221.5               4680.804342   \n",
      "\n",
      "   linear_touch_revenue  markov_conversions  markov_revenue  \n",
      "0          1.991754e+06         5308.349901    2.019282e+06  \n",
      "1          8.623901e+05         3455.085852    1.315806e+06  \n",
      "2          8.062198e+05         2047.458283    7.839264e+05  \n",
      "3          1.282607e+06         2788.314898    1.069637e+06  \n",
      "4          1.780724e+06         4038.791065    1.535044e+06  \n"
     ]
    },
    {
     "data": {
      "application/vnd.microsoft.datawrangler.viewer.v0+json": {
       "columns": [
        {
         "name": "index",
         "rawType": "int64",
         "type": "integer"
        },
        {
         "name": "channel",
         "rawType": "object",
         "type": "string"
        },
        {
         "name": "first_touch_conversions_rate",
         "rawType": "float64",
         "type": "float"
        },
        {
         "name": "first_touch_revenue_rate",
         "rawType": "float64",
         "type": "float"
        },
        {
         "name": "last_touch_conversions_rate",
         "rawType": "float64",
         "type": "float"
        },
        {
         "name": "last_touch_revenue_rate",
         "rawType": "float64",
         "type": "float"
        },
        {
         "name": "linear_touch_conversions_rate",
         "rawType": "float64",
         "type": "float"
        },
        {
         "name": "linear_touch_revenue_rate",
         "rawType": "float64",
         "type": "float"
        },
        {
         "name": "markov_conversions_rate",
         "rawType": "float64",
         "type": "float"
        },
        {
         "name": "markov_revenue_rate",
         "rawType": "float64",
         "type": "float"
        }
       ],
       "conversionMethod": "pd.DataFrame",
       "ref": "d82e97e4-e950-4130-9675-5a447060a452",
       "rows": [
        [
         "0",
         "Facebook",
         "0.029605338330400605",
         "11.25985225896387",
         "0.030279485363011036",
         "11.54823579149432",
         "0.0298510603367699",
         "11.379109117751215",
         "0.030327189271667346",
         "11.536380721904644"
        ],
        [
         "1",
         "Instagram",
         "0.031179115495604322",
         "11.909757734380243",
         "0.03011878397422992",
         "11.494658076639151",
         "0.030328844140352376",
         "11.574929071228656",
         "0.04637387896757049",
         "17.660634843874767"
        ],
        [
         "2",
         "Online Display",
         "0.030476190476190476",
         "11.549333333333333",
         "0.030179894179894178",
         "11.445622574955909",
         "0.02999910649793238",
         "11.375235748087805",
         "0.028888300288542126",
         "11.06068939901863"
        ],
        [
         "3",
         "Online Video",
         "0.029036539451231073",
         "11.139300450535858",
         "0.03077006419458815",
         "11.796076094513214",
         "0.03021342448044213",
         "11.580372579853327",
         "0.025175067025034036",
         "9.65750902721918"
        ],
        [
         "4",
         "Paid Search",
         "0.031579017246644275",
         "12.036564479082303",
         "0.030184946693397417",
         "11.472679536371965",
         "0.031073197612786305",
         "11.821210494967202",
         "0.026811236638321523",
         "10.19028317180691"
        ]
       ],
       "shape": {
        "columns": 9,
        "rows": 5
       }
      },
      "text/html": [
       "<div>\n",
       "<style scoped>\n",
       "    .dataframe tbody tr th:only-of-type {\n",
       "        vertical-align: middle;\n",
       "    }\n",
       "\n",
       "    .dataframe tbody tr th {\n",
       "        vertical-align: top;\n",
       "    }\n",
       "\n",
       "    .dataframe thead th {\n",
       "        text-align: right;\n",
       "    }\n",
       "</style>\n",
       "<table border=\"1\" class=\"dataframe\">\n",
       "  <thead>\n",
       "    <tr style=\"text-align: right;\">\n",
       "      <th></th>\n",
       "      <th>channel</th>\n",
       "      <th>first_touch_conversions_rate</th>\n",
       "      <th>first_touch_revenue_rate</th>\n",
       "      <th>last_touch_conversions_rate</th>\n",
       "      <th>last_touch_revenue_rate</th>\n",
       "      <th>linear_touch_conversions_rate</th>\n",
       "      <th>linear_touch_revenue_rate</th>\n",
       "      <th>markov_conversions_rate</th>\n",
       "      <th>markov_revenue_rate</th>\n",
       "    </tr>\n",
       "  </thead>\n",
       "  <tbody>\n",
       "    <tr>\n",
       "      <th>0</th>\n",
       "      <td>Facebook</td>\n",
       "      <td>0.029605</td>\n",
       "      <td>11.259852</td>\n",
       "      <td>0.030279</td>\n",
       "      <td>11.548236</td>\n",
       "      <td>0.029851</td>\n",
       "      <td>11.379109</td>\n",
       "      <td>0.030327</td>\n",
       "      <td>11.536381</td>\n",
       "    </tr>\n",
       "    <tr>\n",
       "      <th>1</th>\n",
       "      <td>Instagram</td>\n",
       "      <td>0.031179</td>\n",
       "      <td>11.909758</td>\n",
       "      <td>0.030119</td>\n",
       "      <td>11.494658</td>\n",
       "      <td>0.030329</td>\n",
       "      <td>11.574929</td>\n",
       "      <td>0.046374</td>\n",
       "      <td>17.660635</td>\n",
       "    </tr>\n",
       "    <tr>\n",
       "      <th>2</th>\n",
       "      <td>Online Display</td>\n",
       "      <td>0.030476</td>\n",
       "      <td>11.549333</td>\n",
       "      <td>0.030180</td>\n",
       "      <td>11.445623</td>\n",
       "      <td>0.029999</td>\n",
       "      <td>11.375236</td>\n",
       "      <td>0.028888</td>\n",
       "      <td>11.060689</td>\n",
       "    </tr>\n",
       "    <tr>\n",
       "      <th>3</th>\n",
       "      <td>Online Video</td>\n",
       "      <td>0.029037</td>\n",
       "      <td>11.139300</td>\n",
       "      <td>0.030770</td>\n",
       "      <td>11.796076</td>\n",
       "      <td>0.030213</td>\n",
       "      <td>11.580373</td>\n",
       "      <td>0.025175</td>\n",
       "      <td>9.657509</td>\n",
       "    </tr>\n",
       "    <tr>\n",
       "      <th>4</th>\n",
       "      <td>Paid Search</td>\n",
       "      <td>0.031579</td>\n",
       "      <td>12.036564</td>\n",
       "      <td>0.030185</td>\n",
       "      <td>11.472680</td>\n",
       "      <td>0.031073</td>\n",
       "      <td>11.821210</td>\n",
       "      <td>0.026811</td>\n",
       "      <td>10.190283</td>\n",
       "    </tr>\n",
       "  </tbody>\n",
       "</table>\n",
       "</div>"
      ],
      "text/plain": [
       "          channel  first_touch_conversions_rate  first_touch_revenue_rate  \\\n",
       "0        Facebook                      0.029605                 11.259852   \n",
       "1       Instagram                      0.031179                 11.909758   \n",
       "2  Online Display                      0.030476                 11.549333   \n",
       "3    Online Video                      0.029037                 11.139300   \n",
       "4     Paid Search                      0.031579                 12.036564   \n",
       "\n",
       "   last_touch_conversions_rate  last_touch_revenue_rate  \\\n",
       "0                     0.030279                11.548236   \n",
       "1                     0.030119                11.494658   \n",
       "2                     0.030180                11.445623   \n",
       "3                     0.030770                11.796076   \n",
       "4                     0.030185                11.472680   \n",
       "\n",
       "   linear_touch_conversions_rate  linear_touch_revenue_rate  \\\n",
       "0                       0.029851                  11.379109   \n",
       "1                       0.030329                  11.574929   \n",
       "2                       0.029999                  11.375236   \n",
       "3                       0.030213                  11.580373   \n",
       "4                       0.031073                  11.821210   \n",
       "\n",
       "   markov_conversions_rate  markov_revenue_rate  \n",
       "0                 0.030327            11.536381  \n",
       "1                 0.046374            17.660635  \n",
       "2                 0.028888            11.060689  \n",
       "3                 0.025175             9.657509  \n",
       "4                 0.026811            10.190283  "
      ]
     },
     "execution_count": 341,
     "metadata": {},
     "output_type": "execute_result"
    }
   ],
   "source": [
    "#left join Heuristic model with Markov model\n",
    "att_model_comb=newhm.merge(mm.attribution_model_, on='channel', how='left')\n",
    "print(att_model_comb)\n",
    "\n",
    "\n",
    "conversion_rates=att_model_comb.merge(touchpoints, on='channel', how='left')\n",
    "\n",
    "# Build the list of columns to divide, excluding 'touchpoints' and 'channel'\n",
    "columns_to_divide = [col for col in conversion_rates.columns if col not in ['touchpoints', 'channel']]\n",
    "\n",
    "# For each column in columns_to_divide, create a new column with '_rate' appended to the name\n",
    "for col in columns_to_divide:\n",
    "    conversion_rates[f\"{col}_rate\"] = conversion_rates[col] / conversion_rates['touchpoints']\n",
    "\n",
    "# Drop the original columns except 'channel' and 'touchpoints'\n",
    "conversion_rates = conversion_rates.drop(columns=columns_to_divide + ['touchpoints'])\n",
    "print(conversion_rates)"
   ]
  },
  {
   "cell_type": "markdown",
   "metadata": {},
   "source": [
    "**Plotting based on Attribution method**"
   ]
  },
  {
   "cell_type": "code",
   "execution_count": 339,
   "metadata": {
    "ExecuteTime": {
     "end_time": "2025-03-23T10:08:10.257877Z",
     "start_time": "2025-03-23T10:08:09.706640Z"
    }
   },
   "outputs": [
    {
     "data": {
      "image/png": "[encoded data removed]",
      "text/plain": [
       "<Figure size 1000x800 with 1 Axes>"
      ]
     },
     "metadata": {},
     "output_type": "display_data"
    },
    {
     "data": {
      "image/png": "[encoded data removed]",
      "text/plain": [
       "<Figure size 1000x900 with 1 Axes>"
      ]
     },
     "metadata": {},
     "output_type": "display_data"
    }
   ],
   "source": [
    "# Plot Conversions per Channel\n",
    "\n",
    "# HEX codes for colours from TBAuction website\n",
    "colors = ['#41042C', '#9baf7e', '#357b49', '#0073AA']\n",
    "\n",
    "# Define the columns to plot and their corresponding display names\n",
    "conversions = ['first_touch_conversions', 'last_touch_conversions', 'linear_touch_conversions', 'markov_conversions']\n",
    "conversion_labels = ['First Touch', 'Last Touch', 'Linear Touch', 'Markov Chain']  # Custom labels for the legend\n",
    "\n",
    "# Create the grouped bar plot\n",
    "ax = att_model_comb[conversions].plot(\n",
    "    kind='bar', \n",
    "    figsize=(10, 8), \n",
    "    width=0.8,\n",
    "    color=colors\n",
    ")\n",
    "\n",
    "# Customize x-axis labels and rotation\n",
    "plt.xticks(range(len(att_model_comb)), att_model_comb['channel'], rotation=45)\n",
    "\n",
    "# Add titles and axis labels\n",
    "plt.title('Conversions per Channel')\n",
    "plt.ylabel('Conversions')\n",
    "plt.xlabel('Channel')\n",
    "\n",
    "# Add a legend with custom labels\n",
    "plt.legend(conversion_labels, title=\"Attribution Type\")\n",
    "\n",
    "# Automatically add data labels to each bar\n",
    "for container in ax.containers:   \n",
    "    ax.bar_label(container, fmt='%.0f', label_type='edge', fontsize=9)  # fmt='%.0f' => formats the data labels as integers (no decimal places)\n",
    "\n",
    "# Adjust the y-axis range to add more space above the bars\n",
    "max_y = max([bar.get_height() for container in ax.containers for bar in container])  # Find the tallest bar\n",
    "plt.ylim(0, max_y * 1.1)  # Add 10% extra space above the tallest bar\n",
    "\n",
    "# Adjust layout for clarity\n",
    "plt.tight_layout()\n",
    "\n",
    "# Display the plot\n",
    "plt.show()\n",
    "\n",
    "\n",
    "\n",
    "# Plot revenue\n",
    "\n",
    "# Define a function to format the y-axis labels\n",
    "def format_yaxis(value, tick_number):\n",
    "    if value >= 1_000_000:  # Format as millions\n",
    "        if value % 1_000_000 == 0:  # Check if it's an exact multiple of 1M\n",
    "            return f'{int(value / 1_000_000)}M'  # Display as a whole number (e.g., 1M, 2M)\n",
    "        else:\n",
    "            return f'{value / 1_000_000:.2f}M'  # Display fractional millions (e.g., 1.25M)\n",
    "    elif value >= 1_000:  # Format as thousands\n",
    "        return f'{int(value / 1_000)}K'\n",
    "    else:  # Keep as is for smaller values\n",
    "        return f'{int(value)}'\n",
    "\n",
    "revenue = ['first_touch_revenue', 'last_touch_revenue', 'linear_touch_revenue', 'markov_revenue']\n",
    "revenue_labels = ['First Touch', 'Last Touch', 'Linear Touch', 'Markov Chain']  # Custom labels for the legend\n",
    "ax = att_model_comb[revenue].plot(\n",
    "    kind='bar', \n",
    "    figsize=(10, 9), \n",
    "    width=0.8, \n",
    "    color=colors)\n",
    "\n",
    "# Customize x-axis labels and rotation\n",
    "plt.xticks(range(len(att_model_comb)), att_model_comb['channel'], rotation=45)\n",
    "\n",
    "# Add titles and axis labels\n",
    "plt.title('Revenue per Channel')\n",
    "plt.ylabel('Revenue in Million')\n",
    "plt.xlabel('Channel')\n",
    "\n",
    "# Add a legend with custom labels\n",
    "plt.legend(revenue_labels, title=\"Attribution Type\")\n",
    "\n",
    "\n",
    "# Automatically add data labels, transformed to 'K'\n",
    "for container in ax.containers:\n",
    "    ax.bar_label(\n",
    "        container,\n",
    "        labels=[f'{int(label / 1000)}K' for label in container.datavalues],  # Divides by 1000 the revenue value and appends a 'K' to each label\n",
    "        label_type='edge',\n",
    "        padding=2,\n",
    "        fontsize=8\n",
    "    )\n",
    "\n",
    "# Adjust the y-axis range to add more space above the bars\n",
    "max_y = max([bar.get_height() for container in ax.containers for bar in container])  # Find the tallest bar\n",
    "plt.ylim(0, max_y * 1.1)  # Add 20% extra space above the tallest bar\n",
    "\n",
    "# Apply the custom y-axis formatter\n",
    "ax.yaxis.set_major_formatter(FuncFormatter(format_yaxis))\n",
    "\n",
    "# Adjust layout and show the plot\n",
    "plt.tight_layout()\n",
    "plt.show()"
   ]
  },
  {
   "cell_type": "markdown",
   "metadata": {},
   "source": [
    "Plotting Conversion rate per Channel"
   ]
  },
  {
   "cell_type": "code",
   "execution_count": 340,
   "metadata": {
    "ExecuteTime": {
     "end_time": "2025-03-23T11:10:54.155852Z",
     "start_time": "2025-03-23T11:10:53.699650Z"
    }
   },
   "outputs": [
    {
     "data": {
      "image/png": "[encoded data removed]",
      "text/plain": [
       "<Figure size 1000x800 with 1 Axes>"
      ]
     },
     "metadata": {},
     "output_type": "display_data"
    }
   ],
   "source": [
    "# Define a function to format the y-axis labels\n",
    "def format_yaxis(value, tick_number):\n",
    "    return f'{value * 100:.0f}%'  # Multiply by 100 and format as an integer with a '%' symbol\n",
    "\n",
    "# Extract the columns with _rate to plot\n",
    "rate_columns = ['first_touch_conversions_rate','last_touch_conversions_rate','linear_touch_conversions_rate','markov_conversions_rate']\n",
    "rate_labels = ['First Touch', 'Last Touch', 'Linear Touch', 'Markov Chain']  # Custom labels for the legend\n",
    "\n",
    "# Create the grouped bar plot\n",
    "ax = conversion_rates[rate_columns].plot(\n",
    "    kind='bar',\n",
    "    figsize=(10, 8),\n",
    "    width=0.8,\n",
    "    color=colors[:len(rate_columns)]  # Ensure proper number of colors\n",
    ")\n",
    "\n",
    "# Set the x-tick labels based on 'channel'\n",
    "plt.xticks(\n",
    "    ticks=range(len(conversion_rates)),  # Positions for x-ticks\n",
    "    labels=conversion_rates['channel'],  # Channel names from DataFrame\n",
    "    rotation=45  # Rotate channel names for readability\n",
    ")\n",
    "\n",
    "# Add a title, x-label, and y-label\n",
    "plt.title('Conversion Rates per Channel')\n",
    "plt.xlabel('Channel', fontsize=12)\n",
    "plt.ylabel('Conversion Rate', fontsize=12)\n",
    "\n",
    "# Add a legend for the rate columns\n",
    "plt.legend(rate_labels, title=\"Attribution Type\", fontsize=10)\n",
    "\n",
    "# Automatically add data labels to the bars\n",
    "for container in ax.containers:\n",
    "    ax.bar_label(container,\n",
    "                 labels=[f'{value * 100:.2f}%' for value in container.datavalues],  # Multiply values by 100 and add '%' symbol\n",
    "                 label_type='edge',\n",
    "                 padding=2,\n",
    "                 fontsize=7)\n",
    "\n",
    "# Adjust the y-axis range to add more space above the bars\n",
    "max_y = max([bar.get_height() for container in ax.containers for bar in container])  # Find the maximum bar height\n",
    "plt.ylim(0, max_y * 1.1)  # Set the y-axis range to 10% higher than the tallest bar\n",
    "\n",
    "# Apply the custom y-axis formatter\n",
    "ax.yaxis.set_major_formatter(FuncFormatter(format_yaxis))\n",
    "\n",
    "# Adjust layout for clarity\n",
    "plt.tight_layout()\n",
    "\n",
    "# Display the plot\n",
    "plt.show()"
   ]
  }
 ],
 "metadata": {
  "kernelspec": {
   "display_name": "Python 3",
   "language": "python",
   "name": "python3"
  },
  "language_info": {
   "codemirror_mode": {
    "name": "ipython",
    "version": 3
   },
   "file_extension": ".py",
   "mimetype": "text/x-python",
   "name": "python",
   "nbconvert_exporter": "python",
   "pygments_lexer": "ipython3",
   "version": "3.11.6"
  }
 },
 "nbformat": 4,
 "nbformat_minor": 2
}
